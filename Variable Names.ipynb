{
 "cells": [
  {
   "cell_type": "code",
   "execution_count": null,
   "metadata": {
    "collapsed": true
   },
   "outputs": [],
   "source": [
    "\"\"\"\n",
    "\n",
    "Identifier names are case-sensitive. So, the following all are different identifiers:\n",
    "\n",
    "my_var\n",
    "my_Var\n",
    "ham\n",
    "Ham\n",
    "\n",
    "\n",
    "Identifiers must follow certain rules and conventions.\n",
    "\n",
    "MUST:\n",
    "\n",
    "start with underscore (_) or letter (a-z, A-Z);\n",
    "followed by any number of underscores (_), letters (a-z, A-Z) or digits (0-9)\n",
    "\n",
    "var my_var index1 index_1 _var __var __lt__ are all legal names\n",
    "\n",
    "Identifiers can not be reserved words/keywords of Python.\n",
    "\n",
    "CONVENTIONS:\n",
    "\n",
    "_my_var -> leading single underscore means this is an internal or private use of objects, better not change this variable\n",
    "\n",
    "Objects named this way will not get imported bya statement such as:\n",
    "\n",
    "from modeule import *\n",
    "\n",
    "__my_var -> Used to \"mangle\" class attributes - useful in inheritance chains if we have the same name/attribute on a chain of classes to differentiate between which is which.\n",
    "\n",
    "__my_var__ -> Used for system defined names that hava a special meaning to the interpreter. Don't invent them, stick to the ones pre-defined by Python. For instance \"__init__\"\n",
    "\n",
    "Other Naming Conventions from the PEP8 Style Guide:\n",
    "\n",
    "Packages: short, all-lowercase names. Preferable no underscores.\n",
    "\n",
    "Modules: short, all-lowercase names. Can have underscores.\n",
    "\n",
    "Classes: CapWords(upper camel case) convention like BankAccount\n",
    "\n",
    "Functions: lowercase, words seperated by underscores (snake_case)\n",
    "\n",
    "Variables: lowercase, words seperated by underscores (snake_case)\n",
    "\n",
    "Constants: all-uppercase, words separated by underscores like MIN_APR\n",
    "\"\"\""
   ]
  }
 ],
 "metadata": {
  "kernelspec": {
   "display_name": "Python 3",
   "language": "python",
   "name": "python3"
  },
  "language_info": {
   "codemirror_mode": {
    "name": "ipython",
    "version": 2
   },
   "file_extension": ".py",
   "mimetype": "text/x-python",
   "name": "python",
   "nbconvert_exporter": "python",
   "pygments_lexer": "ipython2",
   "version": "2.7.6"
  }
 },
 "nbformat": 4,
 "nbformat_minor": 0
}